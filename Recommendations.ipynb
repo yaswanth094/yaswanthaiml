{
 "cells": [
  {
   "cell_type": "code",
   "execution_count": 1,
   "id": "f1c690e2-6b46-4575-9e3b-9187026acff2",
   "metadata": {},
   "outputs": [],
   "source": [
    "import numpy as np\n",
    "from scipy.spatial.distance import cosine, euclidean\n",
    "from scipy.stats import pearsonr\n"
   ]
  },
  {
   "cell_type": "code",
   "execution_count": 3,
   "id": "25b45e1a-4264-4908-bdc8-eb9a28df2662",
   "metadata": {},
   "outputs": [],
   "source": [
    "user1=np.array([4,5,2,3,4])\n",
    "user2=np.array([5,3,2,4,5])"
   ]
  },
  {
   "cell_type": "code",
   "execution_count": 11,
   "id": "a31cacb8-74ad-41f0-b8e9-8efbdc1862b6",
   "metadata": {},
   "outputs": [
    {
     "name": "stdout",
     "output_type": "stream",
     "text": [
      "Cosine Similarity: 0.9548\n"
     ]
    }
   ],
   "source": [
    "cosine_similarity=1-cosine(user1,user2)\n",
    "print(f\"Cosine Similarity: {cosine_similarity:.4f}\")"
   ]
  },
  {
   "cell_type": "code",
   "execution_count": 17,
   "id": "311a0d01-a8dc-44a7-86aa-22d69a896395",
   "metadata": {},
   "outputs": [
    {
     "name": "stdout",
     "output_type": "stream",
     "text": [
      "pearson Correaltion Simliarity: 0.4372\n"
     ]
    }
   ],
   "source": [
    "# 2. Pearson Correlation Similarity which returns correlation coeff\n",
    "pearson_corr,_=pearsonr(user1,user2)\n",
    "print(f\"pearson Correaltion Simliarity: {pearson_corr:.4f}\")\n"
   ]
  },
  {
   "cell_type": "code",
   "execution_count": 19,
   "id": "19a113fb-8997-4eaa-81c3-1ae2c83bd262",
   "metadata": {},
   "outputs": [
    {
     "name": "stdout",
     "output_type": "stream",
     "text": [
      "Euclidean DistanceSimilarity: 0.2743\n"
     ]
    }
   ],
   "source": [
    "### \n",
    "euclidean_distance=euclidean(user1,user2)\n",
    "\n",
    "euclidean_similarity=1/(1+euclidean_distance)\n",
    "print(f\"Euclidean DistanceSimilarity: {euclidean_similarity:.4f}\")\n"
   ]
  },
  {
   "cell_type": "code",
   "execution_count": 35,
   "id": "73e5046b-0267-4498-bd9b-f60c7c24cb0f",
   "metadata": {},
   "outputs": [],
   "source": [
    "Raju=np.array([5,3,4,4,2])\n",
    "John=np.array([3,1,2,3,3])\n",
    "Ramya=np.array([4,3,4,5,1])\n",
    "Kishore=np.array([2,2,1,2,4])\n"
   ]
  },
  {
   "cell_type": "code",
   "execution_count": 39,
   "id": "503b1e37-4731-4889-a47c-796ec5c101ba",
   "metadata": {},
   "outputs": [
    {
     "name": "stdout",
     "output_type": "stream",
     "text": [
      "Cosine Similarity: 0.9297\n"
     ]
    }
   ],
   "source": [
    "cosine_similarity=1-cosine(Raju,John)\n",
    "print(f\"Cosine Similarity: {cosine_similarity:.4f}\")"
   ]
  },
  {
   "cell_type": "code",
   "execution_count": 41,
   "id": "40476e33-e86a-4cbc-bd8e-36c8c299860d",
   "metadata": {},
   "outputs": [
    {
     "name": "stdout",
     "output_type": "stream",
     "text": [
      "pearson Correaltion Simliarity: 0.1961\n"
     ]
    }
   ],
   "source": [
    "# 2. Pearson Correlation Similarity which returns correlation coeff\n",
    "pearson_corr,_=pearsonr(Raju,John)\n",
    "print(f\"pearson Correaltion Simliarity: {pearson_corr:.4f}\")\n"
   ]
  },
  {
   "cell_type": "code",
   "execution_count": 43,
   "id": "5272ca31-0d4c-4c89-8e40-0927660e5dbe",
   "metadata": {},
   "outputs": [
    {
     "name": "stdout",
     "output_type": "stream",
     "text": [
      "Euclidean DistanceSimilarity: 0.2109\n"
     ]
    }
   ],
   "source": [
    "### \n",
    "euclidean_distance=euclidean(Raju,John)\n",
    "\n",
    "euclidean_similarity=1/(1+euclidean_distance)\n",
    "print(f\"Euclidean DistanceSimilarity: {euclidean_similarity:.4f}\")\n"
   ]
  },
  {
   "cell_type": "code",
   "execution_count": null,
   "id": "2b1944f0-3acd-414b-9317-14050a70dcf6",
   "metadata": {},
   "outputs": [],
   "source": []
  }
 ],
 "metadata": {
  "kernelspec": {
   "display_name": "Python [conda env:base] *",
   "language": "python",
   "name": "conda-base-py"
  },
  "language_info": {
   "codemirror_mode": {
    "name": "ipython",
    "version": 3
   },
   "file_extension": ".py",
   "mimetype": "text/x-python",
   "name": "python",
   "nbconvert_exporter": "python",
   "pygments_lexer": "ipython3",
   "version": "3.12.7"
  }
 },
 "nbformat": 4,
 "nbformat_minor": 5
}
